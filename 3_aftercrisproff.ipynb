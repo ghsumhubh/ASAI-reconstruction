{
 "cells": [
  {
   "cell_type": "code",
   "execution_count": 1,
   "metadata": {},
   "outputs": [],
   "source": [
    "import pandas as pd\n",
    "import os\n",
    "import matplotlib.pyplot as plt"
   ]
  },
  {
   "cell_type": "code",
   "execution_count": 2,
   "metadata": {},
   "outputs": [],
   "source": [
    "def get_rev_compilemt(seq):\n",
    "    if len(seq) != 30:\n",
    "        print(len(seq))\n",
    "        raise ValueError(\"gRNA must be 30 bases long\")\n",
    "    rev_grna = seq[::-1]\n",
    "    rev_comp_grna = \"\"\n",
    "    for base in rev_grna:\n",
    "        if base.upper() == \"A\":\n",
    "            rev_comp_grna += \"T\"\n",
    "        elif base.upper() == \"T\":\n",
    "            rev_comp_grna += \"A\"\n",
    "        elif base.upper() == \"C\":\n",
    "            rev_comp_grna += \"G\"\n",
    "        elif base.upper() == \"G\":\n",
    "            rev_comp_grna += \"C\"\n",
    "        else:\n",
    "            raise ValueError(\"Invalid base in gRNA\")\n",
    "    return rev_comp_grna"
   ]
  },
  {
   "cell_type": "code",
   "execution_count": 3,
   "metadata": {},
   "outputs": [],
   "source": [
    "after_crisproff_path = 'After CRISPRoff/CRISPRparams.tsv'\n",
    "after_crisproff_full_guides = 'After CRISPRoff/crispron.csv'\n",
    "before_crisproff_path = 'Combined Files/co_and_kim_30.csv'\n",
    "\n",
    "before_crisproff_df = pd.read_csv(before_crisproff_path)\n",
    "after_crisproff_df = pd.read_csv(after_crisproff_path, sep='\\t')\n",
    "after_crisproff_full_guides_df = pd.read_csv(after_crisproff_full_guides)\n",
    "\n",
    "# merge the two dataframes based on the ID or guideID column\n",
    "merged_df = after_crisproff_df.merge(after_crisproff_full_guides_df, left_on='guideID', right_on='ID')\n",
    "#merged_df.to_csv('After CRISPRoff/crispron_pretrain_with_crisproff.csv', index=False)\n",
    "\n",
    "rows = []\n",
    "for row in merged_df.iterrows():\n",
    "    sequence = row[1]['30mer']\n",
    "    crispr_off_score = row[1]['CRISPRoff_score']\n",
    "\n",
    "    if sequence in before_crisproff_df['Sequence'].values:\n",
    "        total_indel_eff_rescaled = before_crisproff_df[before_crisproff_df['Sequence'] == sequence]['total_indel_eff_rescaled'].values[0]\n",
    "        rows.append([sequence, crispr_off_score, total_indel_eff_rescaled])\n",
    "    else:\n",
    "        rev_comp_sequence = get_rev_compilemt(sequence)\n",
    "        if rev_comp_sequence in before_crisproff_df['Sequence'].values:\n",
    "            total_indel_eff_rescaled = before_crisproff_df[before_crisproff_df['Sequence'] == rev_comp_sequence]['total_indel_eff_rescaled'].values[0]\n",
    "            rows.append([sequence, crispr_off_score, total_indel_eff_rescaled])\n",
    "\n",
    "df = pd.DataFrame(rows, columns=['Sequence', 'CRISPRoff_score', 'total_indel_eff_rescaled'])\n",
    "df.to_csv('After CRISPRoff/co_data.csv', index=False)\n"
   ]
  }
 ],
 "metadata": {
  "kernelspec": {
   "display_name": "Python 3",
   "language": "python",
   "name": "python3"
  },
  "language_info": {
   "codemirror_mode": {
    "name": "ipython",
    "version": 3
   },
   "file_extension": ".py",
   "mimetype": "text/x-python",
   "name": "python",
   "nbconvert_exporter": "python",
   "pygments_lexer": "ipython3",
   "version": "3.11.4"
  }
 },
 "nbformat": 4,
 "nbformat_minor": 2
}
